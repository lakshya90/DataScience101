{
  "nbformat": 4,
  "nbformat_minor": 0,
  "metadata": {
    "colab": {
      "name": "Pandas.ipynb",
      "version": "0.3.2",
      "provenance": [],
      "include_colab_link": true
    },
    "kernelspec": {
      "display_name": "Python 3",
      "language": "python",
      "name": "python3"
    }
  },
  "cells": [
    {
      "cell_type": "markdown",
      "metadata": {
        "id": "view-in-github",
        "colab_type": "text"
      },
      "source": [
        "<a href=\"https://colab.research.google.com/github/lakshya90/DataScience101/blob/master/Pandas.ipynb\" target=\"_parent\"><img src=\"https://colab.research.google.com/assets/colab-badge.svg\" alt=\"Open In Colab\"/></a>"
      ]
    },
    {
      "metadata": {
        "id": "yILLPxPPMVYF",
        "colab_type": "text"
      },
      "cell_type": "markdown",
      "source": [
        "# Pandas"
      ]
    },
    {
      "metadata": {
        "id": "TziO77A7MVYK",
        "colab_type": "code",
        "colab": {}
      },
      "cell_type": "code",
      "source": [
        "import numpy as np\n",
        "import pandas as pd"
      ],
      "execution_count": 0,
      "outputs": []
    },
    {
      "metadata": {
        "id": "6eT6Ex8ZMVYS",
        "colab_type": "text"
      },
      "cell_type": "markdown",
      "source": [
        "## The Pandas Series Object\n",
        "\n",
        "A Pandas ``Series`` is a one-dimensional array of indexed data.\n",
        "It can be created from a list or array as follows:"
      ]
    },
    {
      "metadata": {
        "id": "jy5GP9xAMVYV",
        "colab_type": "code",
        "outputId": "82ae873b-a24b-492c-c13b-af89625a7e4c",
        "colab": {}
      },
      "cell_type": "code",
      "source": [
        "data = pd.Series([0.25, 0.5, 0.75, 1.0])\n",
        "data"
      ],
      "execution_count": 0,
      "outputs": [
        {
          "output_type": "execute_result",
          "data": {
            "text/plain": [
              "0    0.25\n",
              "1    0.50\n",
              "2    0.75\n",
              "3    1.00\n",
              "dtype: float64"
            ]
          },
          "metadata": {
            "tags": []
          },
          "execution_count": 2
        }
      ]
    },
    {
      "metadata": {
        "id": "oMtzjZMFMVYh",
        "colab_type": "text"
      },
      "cell_type": "markdown",
      "source": [
        "As we see in the output, the ``Series`` wraps both a sequence of values and a sequence of indices, which we can access with the ``values`` and ``index`` attributes.\n",
        "The ``values`` are simply a familiar NumPy array:"
      ]
    },
    {
      "metadata": {
        "id": "xljXQBJCMVYj",
        "colab_type": "code",
        "outputId": "c85b6e28-b0df-43e2-edc4-fe0071ef4dc9",
        "colab": {}
      },
      "cell_type": "code",
      "source": [
        "data.values"
      ],
      "execution_count": 0,
      "outputs": [
        {
          "output_type": "execute_result",
          "data": {
            "text/plain": [
              "array([ 0.25,  0.5 ,  0.75,  1.  ])"
            ]
          },
          "metadata": {
            "tags": []
          },
          "execution_count": 3
        }
      ]
    },
    {
      "metadata": {
        "id": "W9OVJqCNMVYt",
        "colab_type": "text"
      },
      "cell_type": "markdown",
      "source": [
        "The ``index`` is an array-like object of type ``pd.Index``, which we'll discuss in more detail momentarily."
      ]
    },
    {
      "metadata": {
        "id": "uZimDXWUMVYw",
        "colab_type": "code",
        "outputId": "deca60ed-60be-4d5b-be44-0d9fd6b586b4",
        "colab": {}
      },
      "cell_type": "code",
      "source": [
        "data.index"
      ],
      "execution_count": 0,
      "outputs": [
        {
          "output_type": "execute_result",
          "data": {
            "text/plain": [
              "RangeIndex(start=0, stop=4, step=1)"
            ]
          },
          "metadata": {
            "tags": []
          },
          "execution_count": 4
        }
      ]
    },
    {
      "metadata": {
        "id": "qjMjoCNsMVY5",
        "colab_type": "text"
      },
      "cell_type": "markdown",
      "source": [
        "Like with a NumPy array, data can be accessed by the associated index via the familiar Python square-bracket notation:"
      ]
    },
    {
      "metadata": {
        "id": "zTVvFMXKMVY8",
        "colab_type": "code",
        "outputId": "eb4ff6a1-cfa5-4665-ed06-e5dbb959dc72",
        "colab": {}
      },
      "cell_type": "code",
      "source": [
        "data[1]"
      ],
      "execution_count": 0,
      "outputs": [
        {
          "output_type": "execute_result",
          "data": {
            "text/plain": [
              "0.5"
            ]
          },
          "metadata": {
            "tags": []
          },
          "execution_count": 5
        }
      ]
    },
    {
      "metadata": {
        "id": "Y5_M_aTsMVZF",
        "colab_type": "code",
        "outputId": "2eeefecb-29e0-420e-d709-fb5ca1df71de",
        "colab": {}
      },
      "cell_type": "code",
      "source": [
        "data[1:3]"
      ],
      "execution_count": 0,
      "outputs": [
        {
          "output_type": "execute_result",
          "data": {
            "text/plain": [
              "1    0.50\n",
              "2    0.75\n",
              "dtype: float64"
            ]
          },
          "metadata": {
            "tags": []
          },
          "execution_count": 6
        }
      ]
    },
    {
      "metadata": {
        "id": "C6zjA_93MVZS",
        "colab_type": "text"
      },
      "cell_type": "markdown",
      "source": [
        "As we will see, though, the Pandas ``Series`` is much more general and flexible than the one-dimensional NumPy array that it emulates."
      ]
    },
    {
      "metadata": {
        "id": "FmSnQ7ZkMVbr",
        "colab_type": "text"
      },
      "cell_type": "markdown",
      "source": [
        "## The Pandas DataFrame Object\n"
      ]
    },
    {
      "metadata": {
        "id": "6GltGUMQOeib",
        "colab_type": "text"
      },
      "cell_type": "markdown",
      "source": [
        "**Create an Empty DataFrame**"
      ]
    },
    {
      "metadata": {
        "id": "sqg1VEPQOlT5",
        "colab_type": "code",
        "outputId": "6e0283a8-3d10-4538-9c1b-df47e91a6b13",
        "colab": {
          "base_uri": "https://localhost:8080/",
          "height": 68
        }
      },
      "cell_type": "code",
      "source": [
        "#import the pandas library and aliasing as pd\n",
        "import pandas as pd\n",
        "df = pd.DataFrame()\n",
        "print(df)"
      ],
      "execution_count": 0,
      "outputs": [
        {
          "output_type": "stream",
          "text": [
            "Empty DataFrame\n",
            "Columns: []\n",
            "Index: []\n"
          ],
          "name": "stdout"
        }
      ]
    },
    {
      "metadata": {
        "id": "cxYpvrx6Owv9",
        "colab_type": "code",
        "outputId": "3cb05de5-b1a4-49a8-f54b-a424d30848f4",
        "colab": {
          "base_uri": "https://localhost:8080/",
          "height": 119
        }
      },
      "cell_type": "code",
      "source": [
        "import pandas as pd\n",
        "data = [1,2,3,4,5]\n",
        "df = pd.DataFrame(data)\n",
        "print(df)"
      ],
      "execution_count": 0,
      "outputs": [
        {
          "output_type": "stream",
          "text": [
            "   0\n",
            "0  1\n",
            "1  2\n",
            "2  3\n",
            "3  4\n",
            "4  5\n"
          ],
          "name": "stdout"
        }
      ]
    },
    {
      "metadata": {
        "id": "DmGOEaF8O1KM",
        "colab_type": "code",
        "outputId": "1f5e6108-db74-43a9-bdeb-f05f23234330",
        "colab": {
          "base_uri": "https://localhost:8080/",
          "height": 85
        }
      },
      "cell_type": "code",
      "source": [
        "import pandas as pd\n",
        "data = [['Alex',10],['Bob',12],['Clarke',13]]\n",
        "df = pd.DataFrame(data,columns=['Name','Age'])\n",
        "print(df)"
      ],
      "execution_count": 0,
      "outputs": [
        {
          "output_type": "stream",
          "text": [
            "     Name  Age\n",
            "0    Alex   10\n",
            "1     Bob   12\n",
            "2  Clarke   13\n"
          ],
          "name": "stdout"
        }
      ]
    },
    {
      "metadata": {
        "id": "1YQhzy5GV84c",
        "colab_type": "text"
      },
      "cell_type": "markdown",
      "source": [
        "#Head and Tail"
      ]
    },
    {
      "metadata": {
        "id": "8SItOV8nO7cm",
        "colab_type": "code",
        "outputId": "4739c1ff-174f-422e-95f6-f3cad0f76868",
        "colab": {
          "base_uri": "https://localhost:8080/",
          "height": 357
        }
      },
      "cell_type": "code",
      "source": [
        "import pandas as pd\n",
        "import numpy as np\n",
        "\n",
        "#Create a series with 4 random numbers\n",
        "s = pd.Series(np.random.randn(4))\n",
        "print(\"The original series is:\")\n",
        "print(s)\n",
        "\n",
        "print(\"The first two rows of the data series:\")\n",
        "print(s.head(2))\n",
        "\n",
        "#Create a series with 4 random numbers\n",
        "s = pd.Series(np.random.randn(4))\n",
        "print(\"The original series is:\")\n",
        "print(s)\n",
        "\n",
        "print(\"The last two rows of the data series:\")\n",
        "print(s.tail(2))"
      ],
      "execution_count": 0,
      "outputs": [
        {
          "output_type": "stream",
          "text": [
            "The original series is:\n",
            "0    0.116896\n",
            "1   -0.308206\n",
            "2    0.775001\n",
            "3    2.722417\n",
            "dtype: float64\n",
            "The first two rows of the data series:\n",
            "0    0.116896\n",
            "1   -0.308206\n",
            "dtype: float64\n",
            "The original series is:\n",
            "0    0.280888\n",
            "1    0.610335\n",
            "2   -0.462607\n",
            "3   -1.980918\n",
            "dtype: float64\n",
            "The last two rows of the data series:\n",
            "2   -0.462607\n",
            "3   -1.980918\n",
            "dtype: float64\n"
          ],
          "name": "stdout"
        }
      ]
    },
    {
      "metadata": {
        "id": "5mYXz39xWSeO",
        "colab_type": "text"
      },
      "cell_type": "markdown",
      "source": [
        "#Shape"
      ]
    },
    {
      "metadata": {
        "id": "dVzz1RrsWLmN",
        "colab_type": "code",
        "outputId": "2490693f-e6ac-41aa-e575-b5e7942fb997",
        "colab": {
          "base_uri": "https://localhost:8080/",
          "height": 204
        }
      },
      "cell_type": "code",
      "source": [
        "import pandas as pd\n",
        "import numpy as np\n",
        " \n",
        "#Create a Dictionary of series\n",
        "d = {'Name':pd.Series(['Tom','James','Ricky','Vin','Steve','Smith','Jack']),\n",
        "   'Age':pd.Series([25,26,25,23,30,29,23]),\n",
        "   'Rating':pd.Series([4.23,3.24,3.98,2.56,3.20,4.6,3.8])}\n",
        " \n",
        "#Create a DataFrame\n",
        "df = pd.DataFrame(d)\n",
        "print(\"Our object is:\")\n",
        "print(df)\n",
        "print(\"The shape of the object is:\")\n",
        "print(df.shape)"
      ],
      "execution_count": 0,
      "outputs": [
        {
          "output_type": "stream",
          "text": [
            "Our object is:\n",
            "   Age   Name  Rating\n",
            "0   25    Tom    4.23\n",
            "1   26  James    3.24\n",
            "2   25  Ricky    3.98\n",
            "3   23    Vin    2.56\n",
            "4   30  Steve    3.20\n",
            "5   29  Smith    4.60\n",
            "6   23   Jack    3.80\n",
            "The shape of the object is:\n",
            "(7, 3)\n"
          ],
          "name": "stdout"
        }
      ]
    },
    {
      "metadata": {
        "id": "8qhBPic-WqiT",
        "colab_type": "text"
      },
      "cell_type": "markdown",
      "source": [
        "#values()"
      ]
    },
    {
      "metadata": {
        "id": "yDR_1xjFWUX7",
        "colab_type": "code",
        "outputId": "ca489f67-b8a2-4e97-d4bf-e6a078300664",
        "colab": {
          "base_uri": "https://localhost:8080/",
          "height": 306
        }
      },
      "cell_type": "code",
      "source": [
        "import pandas as pd\n",
        "import numpy as np\n",
        " \n",
        "#Create a Dictionary of series\n",
        "d = {'Name':pd.Series(['Tom','James','Ricky','Vin','Steve','Smith','Jack']),\n",
        "   'Age':pd.Series([25,26,25,23,30,29,23]),\n",
        "   'Rating':pd.Series([4.23,3.24,3.98,2.56,3.20,4.6,3.8])}\n",
        " \n",
        "#Create a DataFrame\n",
        "df = pd.DataFrame(d)\n",
        "print(\"Our object is:\")\n",
        "print(df)\n",
        "print(\"The actual data in our data frame is:\")\n",
        "print(df.values)"
      ],
      "execution_count": 0,
      "outputs": [
        {
          "output_type": "stream",
          "text": [
            "Our object is:\n",
            "   Age   Name  Rating\n",
            "0   25    Tom    4.23\n",
            "1   26  James    3.24\n",
            "2   25  Ricky    3.98\n",
            "3   23    Vin    2.56\n",
            "4   30  Steve    3.20\n",
            "5   29  Smith    4.60\n",
            "6   23   Jack    3.80\n",
            "The actual data in our data frame is:\n",
            "[[25 'Tom' 4.23]\n",
            " [26 'James' 3.24]\n",
            " [25 'Ricky' 3.98]\n",
            " [23 'Vin' 2.56]\n",
            " [30 'Steve' 3.2]\n",
            " [29 'Smith' 4.6]\n",
            " [23 'Jack' 3.8]]\n"
          ],
          "name": "stdout"
        }
      ]
    },
    {
      "metadata": {
        "id": "Gqb7mUOTYalv",
        "colab_type": "text"
      },
      "cell_type": "markdown",
      "source": [
        "#Sorting"
      ]
    },
    {
      "metadata": {
        "id": "pPLGNR9-OlbM",
        "colab_type": "code",
        "outputId": "76f5e6f3-78fe-445d-cb7f-339f226f7855",
        "colab": {
          "base_uri": "https://localhost:8080/",
          "height": 204
        }
      },
      "cell_type": "code",
      "source": [
        "import pandas as pd\n",
        "import numpy as np\n",
        "\n",
        "unsorted_df = pd.DataFrame(np.random.randn(10,2),index=[1,4,6,2,3,5,9,8,0,7],columns = ['col2','col1'])\n",
        "\n",
        "sorted_df = unsorted_df.sort_index(ascending=False)\n",
        "print(sorted_df)"
      ],
      "execution_count": 0,
      "outputs": [
        {
          "output_type": "stream",
          "text": [
            "       col2      col1\n",
            "9 -0.248807  0.468988\n",
            "8  1.047795 -0.239473\n",
            "7 -0.985816  0.373464\n",
            "6  0.255020 -1.442820\n",
            "5  0.576216  0.421228\n",
            "4  1.228995  1.174762\n",
            "3 -1.463602 -1.853996\n",
            "2 -1.666039  0.153949\n",
            "1  0.822848  1.850178\n",
            "0 -0.574736 -1.317724\n"
          ],
          "name": "stdout"
        }
      ]
    },
    {
      "metadata": {
        "id": "6P3I7j1BXMyl",
        "colab_type": "text"
      },
      "cell_type": "markdown",
      "source": [
        "#Missing Values"
      ]
    },
    {
      "metadata": {
        "id": "3gr7EBPdWxN0",
        "colab_type": "code",
        "outputId": "b236ba53-aaa0-47f6-ae54-a357819697bb",
        "colab": {
          "base_uri": "https://localhost:8080/",
          "height": 340
        }
      },
      "cell_type": "code",
      "source": [
        "import pandas as pd\n",
        "import numpy as np\n",
        " \n",
        "df = pd.DataFrame(np.random.randn(5, 3), index=['a', 'c', 'e', 'f','h'],columns=['one', 'two', 'three'])\n",
        "\n",
        "df = df.reindex(['a', 'b', 'c', 'd', 'e', 'f', 'g', 'h'])\n",
        "\n",
        "print(df['one'].isnull())\n",
        "\n",
        "print(df['one'].notnull())\n",
        "\n",
        "print(df['one'].sum())\n",
        "\n"
      ],
      "execution_count": 0,
      "outputs": [
        {
          "output_type": "stream",
          "text": [
            "a    False\n",
            "b     True\n",
            "c    False\n",
            "d     True\n",
            "e    False\n",
            "f    False\n",
            "g     True\n",
            "h    False\n",
            "Name: one, dtype: bool\n",
            "a     True\n",
            "b    False\n",
            "c     True\n",
            "d    False\n",
            "e     True\n",
            "f     True\n",
            "g    False\n",
            "h     True\n",
            "Name: one, dtype: bool\n",
            "-4.622776173264095\n"
          ],
          "name": "stdout"
        }
      ]
    },
    {
      "metadata": {
        "id": "QwGYpdNcXcbA",
        "colab_type": "text"
      },
      "cell_type": "markdown",
      "source": [
        "#Handling Missing Values"
      ]
    },
    {
      "metadata": {
        "id": "dcoxdKlUXbiq",
        "colab_type": "code",
        "outputId": "188c6e04-b0bb-471a-f3e6-ed7c67c2f96c",
        "colab": {
          "base_uri": "https://localhost:8080/",
          "height": 221
        }
      },
      "cell_type": "code",
      "source": [
        "import pandas as pd\n",
        "import numpy as np\n",
        "df = pd.DataFrame(np.random.randn(3, 3), index=['a', 'c', 'e'],columns=['one',\n",
        "'two', 'three'])\n",
        "df = df.reindex(['a', 'b', 'c'])\n",
        "print(df)\n",
        "print(\"NaN replaced with '0':\")\n",
        "print(df.fillna(0))\n",
        "\n",
        "print(df.dropna())"
      ],
      "execution_count": 0,
      "outputs": [
        {
          "output_type": "stream",
          "text": [
            "        one       two     three\n",
            "a -0.665472  0.380839  0.461021\n",
            "b       NaN       NaN       NaN\n",
            "c  0.489712  0.543741 -0.913995\n",
            "NaN replaced with '0':\n",
            "        one       two     three\n",
            "a -0.665472  0.380839  0.461021\n",
            "b  0.000000  0.000000  0.000000\n",
            "c  0.489712  0.543741 -0.913995\n",
            "        one       two     three\n",
            "a -0.665472  0.380839  0.461021\n",
            "c  0.489712  0.543741 -0.913995\n"
          ],
          "name": "stdout"
        }
      ]
    }
  ]
}