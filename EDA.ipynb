{
  "nbformat": 4,
  "nbformat_minor": 0,
  "metadata": {
    "colab": {
      "name": "EDA.ipynb",
      "version": "0.3.2",
      "provenance": [],
      "include_colab_link": true
    },
    "kernelspec": {
      "display_name": "Python [Root]",
      "language": "python",
      "name": "Python [Root]"
    }
  },
  "cells": [
    {
      "cell_type": "markdown",
      "metadata": {
        "id": "view-in-github",
        "colab_type": "text"
      },
      "source": [
        "<a href=\"https://colab.research.google.com/github/lakshya90/DataScience101/blob/master/EDA.ipynb\" target=\"_parent\"><img src=\"https://colab.research.google.com/assets/colab-badge.svg\" alt=\"Open In Colab\"/></a>"
      ]
    },
    {
      "metadata": {
        "id": "ijI57r48whQI",
        "colab_type": "text"
      },
      "cell_type": "markdown",
      "source": [
        "#Exploratory Data Analysis"
      ]
    },
    {
      "metadata": {
        "id": "dVXp6uYcwhQN",
        "colab_type": "code",
        "colab": {}
      },
      "cell_type": "code",
      "source": [
        "import pandas as pd\n",
        "import numpy as np\n",
        "import matplotlib.pyplot as plt\n",
        "%matplotlib inline"
      ],
      "execution_count": 0,
      "outputs": []
    },
    {
      "metadata": {
        "id": "Orhat7tjwhQX",
        "colab_type": "code",
        "outputId": "887220e9-f79f-49d3-83a3-41b1fb8bfb80",
        "colab": {}
      },
      "cell_type": "code",
      "source": [
        "df = pd.read_csv('data.csv')\n",
        "df['Amount'] = df['Amount'].str.replace('$','').str.replace(',','')\n",
        "df['Amount'] = pd.to_numeric(df['Amount'])\n",
        "print(df.head())"
      ],
      "execution_count": 0,
      "outputs": [
        {
          "output_type": "stream",
          "text": [
            "  BranchName  Week  DayWeek  Day  Month  Hour Transaction_Type  Units  Amount\n",
            "0    MyStore     1        3    2      1     9             Card      3   54.00\n",
            "1    MyStore     1        3    2      1    10             Cash      7  -17.80\n",
            "2    MyStore     1        3    2      1    10             Card      7   41.99\n",
            "3    MyStore     1        3    2      1    11             Card     20  412.50\n",
            "4    MyStore     1        3    2      1    12             Cash      1  -18.00\n"
          ],
          "name": "stdout"
        }
      ]
    },
    {
      "metadata": {
        "id": "1mX0qsW0whQm",
        "colab_type": "code",
        "outputId": "5e14e64f-8344-4252-8b22-752efbe669d3",
        "colab": {}
      },
      "cell_type": "code",
      "source": [
        "# Remove unwanted \n",
        "df.drop('BranchName',axis=1, inplace=True)\n",
        "df.head()"
      ],
      "execution_count": 0,
      "outputs": [
        {
          "output_type": "execute_result",
          "data": {
            "text/html": [
              "<div>\n",
              "<style>\n",
              "    .dataframe thead tr:only-child th {\n",
              "        text-align: right;\n",
              "    }\n",
              "\n",
              "    .dataframe thead th {\n",
              "        text-align: left;\n",
              "    }\n",
              "\n",
              "    .dataframe tbody tr th {\n",
              "        vertical-align: top;\n",
              "    }\n",
              "</style>\n",
              "<table border=\"1\" class=\"dataframe\">\n",
              "  <thead>\n",
              "    <tr style=\"text-align: right;\">\n",
              "      <th></th>\n",
              "      <th>Week</th>\n",
              "      <th>DayWeek</th>\n",
              "      <th>Day</th>\n",
              "      <th>Month</th>\n",
              "      <th>Hour</th>\n",
              "      <th>Transaction_Type</th>\n",
              "      <th>Units</th>\n",
              "      <th>Amount</th>\n",
              "    </tr>\n",
              "  </thead>\n",
              "  <tbody>\n",
              "    <tr>\n",
              "      <th>0</th>\n",
              "      <td>1</td>\n",
              "      <td>3</td>\n",
              "      <td>2</td>\n",
              "      <td>1</td>\n",
              "      <td>9</td>\n",
              "      <td>Card</td>\n",
              "      <td>3</td>\n",
              "      <td>54.00</td>\n",
              "    </tr>\n",
              "    <tr>\n",
              "      <th>1</th>\n",
              "      <td>1</td>\n",
              "      <td>3</td>\n",
              "      <td>2</td>\n",
              "      <td>1</td>\n",
              "      <td>10</td>\n",
              "      <td>Cash</td>\n",
              "      <td>7</td>\n",
              "      <td>-17.80</td>\n",
              "    </tr>\n",
              "    <tr>\n",
              "      <th>2</th>\n",
              "      <td>1</td>\n",
              "      <td>3</td>\n",
              "      <td>2</td>\n",
              "      <td>1</td>\n",
              "      <td>10</td>\n",
              "      <td>Card</td>\n",
              "      <td>7</td>\n",
              "      <td>41.99</td>\n",
              "    </tr>\n",
              "    <tr>\n",
              "      <th>3</th>\n",
              "      <td>1</td>\n",
              "      <td>3</td>\n",
              "      <td>2</td>\n",
              "      <td>1</td>\n",
              "      <td>11</td>\n",
              "      <td>Card</td>\n",
              "      <td>20</td>\n",
              "      <td>412.50</td>\n",
              "    </tr>\n",
              "    <tr>\n",
              "      <th>4</th>\n",
              "      <td>1</td>\n",
              "      <td>3</td>\n",
              "      <td>2</td>\n",
              "      <td>1</td>\n",
              "      <td>12</td>\n",
              "      <td>Cash</td>\n",
              "      <td>1</td>\n",
              "      <td>-18.00</td>\n",
              "    </tr>\n",
              "  </tbody>\n",
              "</table>\n",
              "</div>"
            ],
            "text/plain": [
              "   Week  DayWeek  Day  Month  Hour Transaction_Type  Units  Amount\n",
              "0     1        3    2      1     9             Card      3   54.00\n",
              "1     1        3    2      1    10             Cash      7  -17.80\n",
              "2     1        3    2      1    10             Card      7   41.99\n",
              "3     1        3    2      1    11             Card     20  412.50\n",
              "4     1        3    2      1    12             Cash      1  -18.00"
            ]
          },
          "metadata": {
            "tags": []
          },
          "execution_count": 34
        }
      ]
    },
    {
      "metadata": {
        "id": "6Qdy52cBwhQz",
        "colab_type": "code",
        "outputId": "407466de-9de3-4025-c2df-e80a79d45f52",
        "colab": {}
      },
      "cell_type": "code",
      "source": [
        "df.shape"
      ],
      "execution_count": 0,
      "outputs": [
        {
          "output_type": "execute_result",
          "data": {
            "text/plain": [
              "(4100, 9)"
            ]
          },
          "metadata": {
            "tags": []
          },
          "execution_count": 33
        }
      ]
    },
    {
      "metadata": {
        "id": "Q64JWyGfwhQ_",
        "colab_type": "code",
        "outputId": "a229e24e-7477-4b8f-8c10-9c87551d1b82",
        "colab": {}
      },
      "cell_type": "code",
      "source": [
        "df.describe()\n"
      ],
      "execution_count": 0,
      "outputs": [
        {
          "output_type": "execute_result",
          "data": {
            "text/html": [
              "<div>\n",
              "<style>\n",
              "    .dataframe thead tr:only-child th {\n",
              "        text-align: right;\n",
              "    }\n",
              "\n",
              "    .dataframe thead th {\n",
              "        text-align: left;\n",
              "    }\n",
              "\n",
              "    .dataframe tbody tr th {\n",
              "        vertical-align: top;\n",
              "    }\n",
              "</style>\n",
              "<table border=\"1\" class=\"dataframe\">\n",
              "  <thead>\n",
              "    <tr style=\"text-align: right;\">\n",
              "      <th></th>\n",
              "      <th>Week</th>\n",
              "      <th>DayWeek</th>\n",
              "      <th>Day</th>\n",
              "      <th>Month</th>\n",
              "      <th>Hour</th>\n",
              "      <th>Units</th>\n",
              "      <th>Amount</th>\n",
              "    </tr>\n",
              "  </thead>\n",
              "  <tbody>\n",
              "    <tr>\n",
              "      <th>count</th>\n",
              "      <td>4100.000000</td>\n",
              "      <td>4100.000000</td>\n",
              "      <td>4100.000000</td>\n",
              "      <td>4100.000000</td>\n",
              "      <td>4100.000000</td>\n",
              "      <td>4100.000000</td>\n",
              "      <td>4100.000000</td>\n",
              "    </tr>\n",
              "    <tr>\n",
              "      <th>mean</th>\n",
              "      <td>34.017805</td>\n",
              "      <td>4.183902</td>\n",
              "      <td>15.812195</td>\n",
              "      <td>8.231463</td>\n",
              "      <td>12.949024</td>\n",
              "      <td>12.779512</td>\n",
              "      <td>35.237046</td>\n",
              "    </tr>\n",
              "    <tr>\n",
              "      <th>std</th>\n",
              "      <td>14.714289</td>\n",
              "      <td>1.967864</td>\n",
              "      <td>8.810817</td>\n",
              "      <td>3.396586</td>\n",
              "      <td>2.631853</td>\n",
              "      <td>17.854968</td>\n",
              "      <td>183.538724</td>\n",
              "    </tr>\n",
              "    <tr>\n",
              "      <th>min</th>\n",
              "      <td>1.000000</td>\n",
              "      <td>1.000000</td>\n",
              "      <td>1.000000</td>\n",
              "      <td>1.000000</td>\n",
              "      <td>8.000000</td>\n",
              "      <td>1.000000</td>\n",
              "      <td>-1041.800000</td>\n",
              "    </tr>\n",
              "    <tr>\n",
              "      <th>25%</th>\n",
              "      <td>29.000000</td>\n",
              "      <td>3.000000</td>\n",
              "      <td>8.000000</td>\n",
              "      <td>7.000000</td>\n",
              "      <td>11.000000</td>\n",
              "      <td>3.000000</td>\n",
              "      <td>-47.000000</td>\n",
              "    </tr>\n",
              "    <tr>\n",
              "      <th>50%</th>\n",
              "      <td>37.000000</td>\n",
              "      <td>4.000000</td>\n",
              "      <td>16.000000</td>\n",
              "      <td>9.000000</td>\n",
              "      <td>13.000000</td>\n",
              "      <td>8.000000</td>\n",
              "      <td>-2.385000</td>\n",
              "    </tr>\n",
              "    <tr>\n",
              "      <th>75%</th>\n",
              "      <td>45.000000</td>\n",
              "      <td>6.000000</td>\n",
              "      <td>23.000000</td>\n",
              "      <td>11.000000</td>\n",
              "      <td>15.000000</td>\n",
              "      <td>16.000000</td>\n",
              "      <td>99.512500</td>\n",
              "    </tr>\n",
              "    <tr>\n",
              "      <th>max</th>\n",
              "      <td>53.000000</td>\n",
              "      <td>7.000000</td>\n",
              "      <td>31.000000</td>\n",
              "      <td>12.000000</td>\n",
              "      <td>19.000000</td>\n",
              "      <td>274.000000</td>\n",
              "      <td>1487.000000</td>\n",
              "    </tr>\n",
              "  </tbody>\n",
              "</table>\n",
              "</div>"
            ],
            "text/plain": [
              "              Week      DayWeek          Day        Month         Hour  \\\n",
              "count  4100.000000  4100.000000  4100.000000  4100.000000  4100.000000   \n",
              "mean     34.017805     4.183902    15.812195     8.231463    12.949024   \n",
              "std      14.714289     1.967864     8.810817     3.396586     2.631853   \n",
              "min       1.000000     1.000000     1.000000     1.000000     8.000000   \n",
              "25%      29.000000     3.000000     8.000000     7.000000    11.000000   \n",
              "50%      37.000000     4.000000    16.000000     9.000000    13.000000   \n",
              "75%      45.000000     6.000000    23.000000    11.000000    15.000000   \n",
              "max      53.000000     7.000000    31.000000    12.000000    19.000000   \n",
              "\n",
              "             Units       Amount  \n",
              "count  4100.000000  4100.000000  \n",
              "mean     12.779512    35.237046  \n",
              "std      17.854968   183.538724  \n",
              "min       1.000000 -1041.800000  \n",
              "25%       3.000000   -47.000000  \n",
              "50%       8.000000    -2.385000  \n",
              "75%      16.000000    99.512500  \n",
              "max     274.000000  1487.000000  "
            ]
          },
          "metadata": {
            "tags": []
          },
          "execution_count": 37
        }
      ]
    },
    {
      "metadata": {
        "id": "_B0uMAOBwhRL",
        "colab_type": "text"
      },
      "cell_type": "markdown",
      "source": [
        "## Distribution Plot"
      ]
    },
    {
      "metadata": {
        "id": "aOsE2NdWwhRN",
        "colab_type": "code",
        "outputId": "b73cd40c-e48e-40a4-8176-d9645bb30a26",
        "colab": {}
      },
      "cell_type": "code",
      "source": [
        "num_bins = 10\n",
        "plt.hist(df['Amount'], num_bins, normed=1, facecolor='blue', alpha=0.7)\n",
        "plt.show()\n"
      ],
      "execution_count": 0,
      "outputs": [
        {
          "output_type": "display_data",
          "data": {
            "image/png": "[encoded data removed]",
            "text/plain": [
              "<matplotlib.figure.Figure at 0x11814ac88>"
            ]
          },
          "metadata": {
            "tags": []
          }
        }
      ]
    },
    {
      "metadata": {
        "id": "Orb8yK0qwhRq",
        "colab_type": "text"
      },
      "cell_type": "markdown",
      "source": [
        "The data varies from `-1000` to `1000` sums up how much the amount varies."
      ]
    },
    {
      "metadata": {
        "id": "fpVANgDJwhRw",
        "colab_type": "text"
      },
      "cell_type": "markdown",
      "source": [
        "## Sales by Month, Day and Hour"
      ]
    },
    {
      "metadata": {
        "id": "evD_J-ATwhRz",
        "colab_type": "code",
        "outputId": "9a17a856-29af-42d6-cfdf-683e79fda8a8",
        "colab": {}
      },
      "cell_type": "code",
      "source": [
        "# By Month\n",
        "sales_by_month = df.groupby('Month').size()\n",
        "print(sales_by_month)\n",
        "#Plotting the Graph\n",
        "plot_by_month = sales_by_month.plot(title='Monthly Sales',xticks=(1,2,3,4,5,6,7,8,9,10,11,12))\n",
        "plot_by_month.set_xlabel('Months')\n",
        "plot_by_month.set_ylabel('Total Sales')"
      ],
      "execution_count": 0,
      "outputs": [
        {
          "output_type": "stream",
          "text": [
            "Month\n",
            "1     604\n",
            "7     606\n",
            "8     572\n",
            "9     580\n",
            "10    581\n",
            "11    587\n",
            "12    570\n",
            "dtype: int64\n"
          ],
          "name": "stdout"
        },
        {
          "output_type": "execute_result",
          "data": {
            "text/plain": [
              "<matplotlib.text.Text at 0x118228f60>"
            ]
          },
          "metadata": {
            "tags": []
          },
          "execution_count": 68
        },
        {
          "output_type": "display_data",
          "data": {
            "image/png": "[encoded data removed]",
            "text/plain": [
              "<matplotlib.figure.Figure at 0x118230710>"
            ]
          },
          "metadata": {
            "tags": []
          }
        }
      ]
    },
    {
      "metadata": {
        "id": "96Zw-3tOwhSF",
        "colab_type": "code",
        "outputId": "9a82d698-1d1b-43c7-9f0e-8f6ae3fcc0b7",
        "colab": {}
      },
      "cell_type": "code",
      "source": [
        "# By Day\n",
        "sales_by_day = df.groupby('Day').size()\n",
        "plot_by_day = sales_by_day.plot(title='Daily Sales',xticks=(range(1,31)),rot=55)\n",
        "plot_by_day.set_xlabel('Day')\n",
        "plot_by_day.set_ylabel('Total Sales')"
      ],
      "execution_count": 0,
      "outputs": [
        {
          "output_type": "execute_result",
          "data": {
            "text/plain": [
              "<matplotlib.text.Text at 0x118caf940>"
            ]
          },
          "metadata": {
            "tags": []
          },
          "execution_count": 89
        },
        {
          "output_type": "display_data",
          "data": {
            "image/png": "[encoded data removed]",
            "text/plain": [
              "<matplotlib.figure.Figure at 0x118c96978>"
            ]
          },
          "metadata": {
            "tags": []
          }
        }
      ]
    },
    {
      "metadata": {
        "id": "Aq0u0xoZwhSP",
        "colab_type": "text"
      },
      "cell_type": "markdown",
      "source": [
        "As per this, 18th day was the best day as 151 units were sold in that day and sales drastically dropped by the end of the month. May be members get tired or bored? :-) "
      ]
    },
    {
      "metadata": {
        "id": "qBVNmzqUwhSR",
        "colab_type": "code",
        "outputId": "117238b8-90c6-4ae8-ec2e-4bf45b0696fb",
        "colab": {}
      },
      "cell_type": "code",
      "source": [
        "sales_by_hour = df.groupby('Hour').size()\n",
        "plot_by_hour = sales_by_hour.plot(title='Hourly Sales',xticks=(range(5,22)))\n",
        "plot_by_hour.set_xlabel('Working Hours')\n",
        "plot_by_hour.set_ylabel('Total Sales')"
      ],
      "execution_count": 0,
      "outputs": [
        {
          "output_type": "execute_result",
          "data": {
            "text/plain": [
              "<matplotlib.text.Text at 0x119268358>"
            ]
          },
          "metadata": {
            "tags": []
          },
          "execution_count": 95
        },
        {
          "output_type": "display_data",
          "data": {
            "image/png": "[encoded data removed]",
            "text/plain": [
              "<matplotlib.figure.Figure at 0x1190420b8>"
            ]
          },
          "metadata": {
            "tags": []
          }
        }
      ]
    },
    {
      "metadata": {
        "id": "3v9m-PKmwhSd",
        "colab_type": "text"
      },
      "cell_type": "markdown",
      "source": [
        "Stores starts around 7 AM in the morning. Majority of the customers come in afternoon. The frequency gets quite low during closing time."
      ]
    },
    {
      "metadata": {
        "id": "4EMpC7JowhSg",
        "colab_type": "code",
        "colab": {}
      },
      "cell_type": "code",
      "source": [
        ""
      ],
      "execution_count": 0,
      "outputs": []
    }
  ]
}