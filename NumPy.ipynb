{
  "nbformat": 4,
  "nbformat_minor": 0,
  "metadata": {
    "colab": {
      "name": "NumPy.ipynb",
      "version": "0.3.2",
      "provenance": [],
      "include_colab_link": true
    },
    "kernelspec": {
      "display_name": "Python 3",
      "language": "python",
      "name": "python3"
    }
  },
  "cells": [
    {
      "cell_type": "markdown",
      "metadata": {
        "id": "view-in-github",
        "colab_type": "text"
      },
      "source": [
        "<a href=\"https://colab.research.google.com/github/lakshya90/DataScience101/blob/master/NumPy.ipynb\" target=\"_parent\"><img src=\"https://colab.research.google.com/assets/colab-badge.svg\" alt=\"Open In Colab\"/></a>"
      ]
    },
    {
      "metadata": {
        "id": "SkD7XQugHxxK",
        "colab_type": "text"
      },
      "cell_type": "markdown",
      "source": [
        "#Numpy"
      ]
    },
    {
      "metadata": {
        "id": "ZkRyj4AQHxxP",
        "colab_type": "text"
      },
      "cell_type": "markdown",
      "source": [
        "## NumPy Array Attributes"
      ]
    },
    {
      "metadata": {
        "id": "-qqw-YyYHxxV",
        "colab_type": "code",
        "colab": {}
      },
      "cell_type": "code",
      "source": [
        "import numpy as np\n",
        "np.random.seed(0)  # seed for reproducibility\n",
        "\n",
        "x1 = np.random.randint(10, size=6)  # One-dimensional array\n",
        "x2 = np.random.randint(10, size=(3, 4))  # Two-dimensional array\n",
        "x3 = np.random.randint(10, size=(3, 4, 5))  # Three-dimensional array"
      ],
      "execution_count": 0,
      "outputs": []
    },
    {
      "metadata": {
        "id": "Y7jj_PlfHxxm",
        "colab_type": "code",
        "outputId": "e553646f-8f29-452a-df4b-c19cbcedef23",
        "colab": {}
      },
      "cell_type": "code",
      "source": [
        "print(\"x3 ndim: \", x3.ndim)\n",
        "print(\"x3 shape:\", x3.shape)\n",
        "print(\"x3 size: \", x3.size)"
      ],
      "execution_count": 0,
      "outputs": [
        {
          "output_type": "stream",
          "text": [
            "x3 ndim:  3\n",
            "x3 shape: (3, 4, 5)\n",
            "x3 size:  60\n"
          ],
          "name": "stdout"
        }
      ]
    },
    {
      "metadata": {
        "id": "AY3CYEagHxx3",
        "colab_type": "code",
        "outputId": "30ebfa78-59f4-4a30-8d0e-ddd0c0e9514e",
        "colab": {}
      },
      "cell_type": "code",
      "source": [
        "print(\"dtype:\", x3.dtype)"
      ],
      "execution_count": 0,
      "outputs": [
        {
          "output_type": "stream",
          "text": [
            "dtype: int64\n"
          ],
          "name": "stdout"
        }
      ]
    },
    {
      "metadata": {
        "id": "oy33Bw0EHxyE",
        "colab_type": "code",
        "outputId": "b149ecf4-d86f-4a4a-cbab-65897b8af668",
        "colab": {}
      },
      "cell_type": "code",
      "source": [
        "print(\"itemsize:\", x3.itemsize, \"bytes\")\n",
        "print(\"nbytes:\", x3.nbytes, \"bytes\")"
      ],
      "execution_count": 0,
      "outputs": [
        {
          "output_type": "stream",
          "text": [
            "itemsize: 8 bytes\n",
            "nbytes: 480 bytes\n"
          ],
          "name": "stdout"
        }
      ]
    },
    {
      "metadata": {
        "id": "jofMn-V9HxyQ",
        "colab_type": "text"
      },
      "cell_type": "markdown",
      "source": [
        "## Array Indexing: Accessing Single Elements"
      ]
    },
    {
      "metadata": {
        "id": "Myj-LCj3HxyS",
        "colab_type": "text"
      },
      "cell_type": "markdown",
      "source": [
        "If you are familiar with Python's standard list indexing, indexing in NumPy will feel quite familiar.\n",
        "In a one-dimensional array, the $i^{th}$ value (counting from zero) can be accessed by specifying the desired index in square brackets, just as with Python lists:"
      ]
    },
    {
      "metadata": {
        "id": "Tyr3kYzZHxyV",
        "colab_type": "code",
        "outputId": "0cc8fe86-6480-4861-ec62-9a3781c0e64a",
        "colab": {}
      },
      "cell_type": "code",
      "source": [
        "x1"
      ],
      "execution_count": 0,
      "outputs": [
        {
          "output_type": "execute_result",
          "data": {
            "text/plain": [
              "array([5, 0, 3, 3, 7, 9])"
            ]
          },
          "metadata": {
            "tags": []
          },
          "execution_count": 5
        }
      ]
    },
    {
      "metadata": {
        "id": "b-bgreHgHxye",
        "colab_type": "code",
        "outputId": "d66666c1-66ed-4679-9efc-ffda28ed7e7e",
        "colab": {}
      },
      "cell_type": "code",
      "source": [
        "x1[0]"
      ],
      "execution_count": 0,
      "outputs": [
        {
          "output_type": "execute_result",
          "data": {
            "text/plain": [
              "5"
            ]
          },
          "metadata": {
            "tags": []
          },
          "execution_count": 6
        }
      ]
    },
    {
      "metadata": {
        "id": "hwJQ2tAcHxyr",
        "colab_type": "code",
        "outputId": "ee8190fd-b6ef-41e7-cb50-d6a5eeb8f910",
        "colab": {}
      },
      "cell_type": "code",
      "source": [
        "x1[4]"
      ],
      "execution_count": 0,
      "outputs": [
        {
          "output_type": "execute_result",
          "data": {
            "text/plain": [
              "7"
            ]
          },
          "metadata": {
            "tags": []
          },
          "execution_count": 7
        }
      ]
    },
    {
      "metadata": {
        "id": "9PQiawDyHxy2",
        "colab_type": "text"
      },
      "cell_type": "markdown",
      "source": [
        "To index from the end of the array, you can use negative indices:"
      ]
    },
    {
      "metadata": {
        "id": "mKkzASeZHxy5",
        "colab_type": "code",
        "outputId": "e385f52f-d2ec-4ce3-bf65-b6acfad52220",
        "colab": {}
      },
      "cell_type": "code",
      "source": [
        "x1[-1]"
      ],
      "execution_count": 0,
      "outputs": [
        {
          "output_type": "execute_result",
          "data": {
            "text/plain": [
              "9"
            ]
          },
          "metadata": {
            "tags": []
          },
          "execution_count": 8
        }
      ]
    },
    {
      "metadata": {
        "id": "hAdTboH_HxzF",
        "colab_type": "code",
        "outputId": "abc06cdc-a2a7-4436-f1bb-8161fedf6d58",
        "colab": {}
      },
      "cell_type": "code",
      "source": [
        "x1[-2]"
      ],
      "execution_count": 0,
      "outputs": [
        {
          "output_type": "execute_result",
          "data": {
            "text/plain": [
              "7"
            ]
          },
          "metadata": {
            "tags": []
          },
          "execution_count": 9
        }
      ]
    },
    {
      "metadata": {
        "id": "pZH_q9K7HxzS",
        "colab_type": "text"
      },
      "cell_type": "markdown",
      "source": [
        "In a multi-dimensional array, items can be accessed using a comma-separated tuple of indices:"
      ]
    },
    {
      "metadata": {
        "id": "nGi87DkoHxzV",
        "colab_type": "code",
        "outputId": "438d56b8-7ad1-45cf-84de-98bb3a2ee4ac",
        "colab": {}
      },
      "cell_type": "code",
      "source": [
        "x2"
      ],
      "execution_count": 0,
      "outputs": [
        {
          "output_type": "execute_result",
          "data": {
            "text/plain": [
              "array([[3, 5, 2, 4],\n",
              "       [7, 6, 8, 8],\n",
              "       [1, 6, 7, 7]])"
            ]
          },
          "metadata": {
            "tags": []
          },
          "execution_count": 10
        }
      ]
    },
    {
      "metadata": {
        "id": "-_8mrIGCHxzk",
        "colab_type": "code",
        "outputId": "ed19247a-bb62-4009-abbc-951646865a14",
        "colab": {}
      },
      "cell_type": "code",
      "source": [
        "x2[0, 0]"
      ],
      "execution_count": 0,
      "outputs": [
        {
          "output_type": "execute_result",
          "data": {
            "text/plain": [
              "3"
            ]
          },
          "metadata": {
            "tags": []
          },
          "execution_count": 11
        }
      ]
    },
    {
      "metadata": {
        "id": "xatamdlfHxzx",
        "colab_type": "code",
        "outputId": "58af6be1-c1ff-4cee-8559-49946c0b230d",
        "colab": {}
      },
      "cell_type": "code",
      "source": [
        "x2[2, 0]"
      ],
      "execution_count": 0,
      "outputs": [
        {
          "output_type": "execute_result",
          "data": {
            "text/plain": [
              "1"
            ]
          },
          "metadata": {
            "tags": []
          },
          "execution_count": 12
        }
      ]
    },
    {
      "metadata": {
        "id": "S5mOB1HQHxz6",
        "colab_type": "code",
        "outputId": "699bf4ee-1b28-49cb-f708-d0cd011ca89a",
        "colab": {}
      },
      "cell_type": "code",
      "source": [
        "x2[2, -1]"
      ],
      "execution_count": 0,
      "outputs": [
        {
          "output_type": "execute_result",
          "data": {
            "text/plain": [
              "7"
            ]
          },
          "metadata": {
            "tags": []
          },
          "execution_count": 13
        }
      ]
    },
    {
      "metadata": {
        "id": "M5CZEgCXHx0C",
        "colab_type": "text"
      },
      "cell_type": "markdown",
      "source": [
        "Values can also be modified using any of the above index notation:"
      ]
    },
    {
      "metadata": {
        "id": "wRjpeZjjHx0F",
        "colab_type": "code",
        "outputId": "5004caac-9d09-4d12-dff0-155021dd28b3",
        "colab": {}
      },
      "cell_type": "code",
      "source": [
        "x2[0, 0] = 12\n",
        "x2"
      ],
      "execution_count": 0,
      "outputs": [
        {
          "output_type": "execute_result",
          "data": {
            "text/plain": [
              "array([[12,  5,  2,  4],\n",
              "       [ 7,  6,  8,  8],\n",
              "       [ 1,  6,  7,  7]])"
            ]
          },
          "metadata": {
            "tags": []
          },
          "execution_count": 14
        }
      ]
    },
    {
      "metadata": {
        "id": "7NmG33n1Hx0N",
        "colab_type": "text"
      },
      "cell_type": "markdown",
      "source": [
        "Keep in mind that, unlike Python lists, NumPy arrays have a fixed type.\n",
        "This means, for example, that if you attempt to insert a floating-point value to an integer array, the value will be silently truncated. Don't be caught unaware by this behavior!"
      ]
    },
    {
      "metadata": {
        "id": "6W7a2pvsHx0P",
        "colab_type": "code",
        "outputId": "195287b5-356e-49c6-eaf9-e514866b40c4",
        "colab": {}
      },
      "cell_type": "code",
      "source": [
        "x1[0] = 3.14159  # this will be truncated!\n",
        "x1"
      ],
      "execution_count": 0,
      "outputs": [
        {
          "output_type": "execute_result",
          "data": {
            "text/plain": [
              "array([3, 0, 3, 3, 7, 9])"
            ]
          },
          "metadata": {
            "tags": []
          },
          "execution_count": 15
        }
      ]
    },
    {
      "metadata": {
        "id": "skF2_RFWHx0Z",
        "colab_type": "text"
      },
      "cell_type": "markdown",
      "source": [
        "## Array Slicing: Accessing Subarrays"
      ]
    },
    {
      "metadata": {
        "id": "0LXN0aWyHx0b",
        "colab_type": "text"
      },
      "cell_type": "markdown",
      "source": [
        "Just as we can use square brackets to access individual array elements, we can also use them to access subarrays with the *slice* notation, marked by the colon (``:``) character.\n",
        "The NumPy slicing syntax follows that of the standard Python list; to access a slice of an array ``x``, use this:\n",
        "``` python\n",
        "x[start:stop:step]\n",
        "```\n",
        "If any of these are unspecified, they default to the values ``start=0``, ``stop=``*``size of dimension``*, ``step=1``.\n",
        "We'll take a look at accessing sub-arrays in one dimension and in multiple dimensions."
      ]
    },
    {
      "metadata": {
        "id": "6IKK6DtIHx0d",
        "colab_type": "text"
      },
      "cell_type": "markdown",
      "source": [
        "### One-dimensional subarrays"
      ]
    },
    {
      "metadata": {
        "id": "df0DUw0dHx0g",
        "colab_type": "code",
        "outputId": "2cd00115-5c29-4bf9-fe2a-7250e4cbc826",
        "colab": {}
      },
      "cell_type": "code",
      "source": [
        "x = np.arange(10)\n",
        "x"
      ],
      "execution_count": 0,
      "outputs": [
        {
          "output_type": "execute_result",
          "data": {
            "text/plain": [
              "array([0, 1, 2, 3, 4, 5, 6, 7, 8, 9])"
            ]
          },
          "metadata": {
            "tags": []
          },
          "execution_count": 16
        }
      ]
    },
    {
      "metadata": {
        "id": "tor6NQMpHx0p",
        "colab_type": "code",
        "outputId": "85d6c301-05fa-40ba-9724-f2d6e0b63f27",
        "colab": {}
      },
      "cell_type": "code",
      "source": [
        "x[:5]  # first five elements"
      ],
      "execution_count": 0,
      "outputs": [
        {
          "output_type": "execute_result",
          "data": {
            "text/plain": [
              "array([0, 1, 2, 3, 4])"
            ]
          },
          "metadata": {
            "tags": []
          },
          "execution_count": 17
        }
      ]
    },
    {
      "metadata": {
        "id": "mA_Gqi9DHx0z",
        "colab_type": "code",
        "outputId": "4039c12a-0291-4850-f037-c799d068cdad",
        "colab": {}
      },
      "cell_type": "code",
      "source": [
        "x[5:]  # elements after index 5"
      ],
      "execution_count": 0,
      "outputs": [
        {
          "output_type": "execute_result",
          "data": {
            "text/plain": [
              "array([5, 6, 7, 8, 9])"
            ]
          },
          "metadata": {
            "tags": []
          },
          "execution_count": 18
        }
      ]
    },
    {
      "metadata": {
        "id": "mFKZB9HsHx0_",
        "colab_type": "code",
        "outputId": "9ef50fe3-2774-4008-f2ec-0dc4c0ac73b2",
        "colab": {}
      },
      "cell_type": "code",
      "source": [
        "x[4:7]  # middle sub-array"
      ],
      "execution_count": 0,
      "outputs": [
        {
          "output_type": "execute_result",
          "data": {
            "text/plain": [
              "array([4, 5, 6])"
            ]
          },
          "metadata": {
            "tags": []
          },
          "execution_count": 19
        }
      ]
    },
    {
      "metadata": {
        "id": "TUwS6E43Hx1P",
        "colab_type": "code",
        "outputId": "9b94951f-8178-4116-9433-08233afbee92",
        "colab": {}
      },
      "cell_type": "code",
      "source": [
        "x[::2]  # every other element"
      ],
      "execution_count": 0,
      "outputs": [
        {
          "output_type": "execute_result",
          "data": {
            "text/plain": [
              "array([0, 2, 4, 6, 8])"
            ]
          },
          "metadata": {
            "tags": []
          },
          "execution_count": 20
        }
      ]
    },
    {
      "metadata": {
        "id": "GN_jMGBTHx5B",
        "colab_type": "text"
      },
      "cell_type": "markdown",
      "source": [
        "## Reshaping of Arrays\n",
        "\n",
        "Another useful type of operation is reshaping of arrays.\n",
        "The most flexible way of doing this is with the ``reshape`` method.\n",
        "For example, if you want to put the numbers 1 through 9 in a $3 \\times 3$ grid, you can do the following:"
      ]
    },
    {
      "metadata": {
        "id": "zQG2k2D1Hx5C",
        "colab_type": "code",
        "outputId": "9e717ec4-cc34-4156-b936-ff694e50ce7a",
        "colab": {}
      },
      "cell_type": "code",
      "source": [
        "grid = np.arange(1, 10).reshape((3, 3))\n",
        "print(grid)"
      ],
      "execution_count": 0,
      "outputs": [
        {
          "output_type": "stream",
          "text": [
            "[[1 2 3]\n",
            " [4 5 6]\n",
            " [7 8 9]]\n"
          ],
          "name": "stdout"
        }
      ]
    },
    {
      "metadata": {
        "id": "WUcoLRoYHx5K",
        "colab_type": "code",
        "outputId": "541e2823-19e2-46ba-80ab-11f779c28146",
        "colab": {}
      },
      "cell_type": "code",
      "source": [
        "x = np.array([1, 2, 3])\n",
        "\n",
        "# row vector via reshape\n",
        "x.reshape((1, 3))"
      ],
      "execution_count": 0,
      "outputs": [
        {
          "output_type": "execute_result",
          "data": {
            "text/plain": [
              "array([[1, 2, 3]])"
            ]
          },
          "metadata": {
            "tags": []
          },
          "execution_count": 39
        }
      ]
    },
    {
      "metadata": {
        "id": "XnBN19nHHx5p",
        "colab_type": "text"
      },
      "cell_type": "markdown",
      "source": [
        "## Array Concatenation and Splitting\n",
        "\n",
        "All of the preceding routines worked on single arrays. It's also possible to combine multiple arrays into one, and to conversely split a single array into multiple arrays. We'll take a look at those operations here."
      ]
    },
    {
      "metadata": {
        "id": "BtuTOEvrHx5r",
        "colab_type": "text"
      },
      "cell_type": "markdown",
      "source": [
        "### Concatenation of arrays\n",
        "\n",
        "Concatenation, or joining of two arrays in NumPy, is primarily accomplished using the routines ``np.concatenate``, ``np.vstack``, and ``np.hstack``.\n",
        "``np.concatenate`` takes a tuple or list of arrays as its first argument, as we can see here:"
      ]
    },
    {
      "metadata": {
        "id": "VLj7WF3IHx5t",
        "colab_type": "code",
        "outputId": "2419c5db-a24a-46a6-cf49-ac7edd1f6ce5",
        "colab": {}
      },
      "cell_type": "code",
      "source": [
        "x = np.array([1, 2, 3])\n",
        "y = np.array([3, 2, 1])\n",
        "np.concatenate([x, y])"
      ],
      "execution_count": 0,
      "outputs": [
        {
          "output_type": "execute_result",
          "data": {
            "text/plain": [
              "array([1, 2, 3, 3, 2, 1])"
            ]
          },
          "metadata": {
            "tags": []
          },
          "execution_count": 43
        }
      ]
    },
    {
      "metadata": {
        "id": "AUC_Wo_3Hx6x",
        "colab_type": "text"
      },
      "cell_type": "markdown",
      "source": [
        "### Splitting of arrays\n",
        "\n",
        "The opposite of concatenation is splitting, which is implemented by the functions ``np.split``, ``np.hsplit``, and ``np.vsplit``.  For each of these, we can pass a list of indices giving the split points:"
      ]
    },
    {
      "metadata": {
        "id": "OBWa-zclHx6y",
        "colab_type": "code",
        "outputId": "87481223-d4fe-4f7d-be8f-2207dfe174ad",
        "colab": {}
      },
      "cell_type": "code",
      "source": [
        "x = [1, 2, 3, 99, 99, 3, 2, 1]\n",
        "x1, x2, x3 = np.split(x, [3, 5])\n",
        "print(x1, x2, x3)"
      ],
      "execution_count": 0,
      "outputs": [
        {
          "output_type": "stream",
          "text": [
            "[1 2 3] [99 99] [3 2 1]\n"
          ],
          "name": "stdout"
        }
      ]
    }
  ]
}